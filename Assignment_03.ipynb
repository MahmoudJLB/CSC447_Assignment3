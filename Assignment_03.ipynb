{
  "nbformat": 4,
  "nbformat_minor": 0,
  "metadata": {
    "colab": {
      "provenance": [],
      "gpuType": "T4"
    },
    "kernelspec": {
      "name": "python3",
      "display_name": "Python 3"
    },
    "language_info": {
      "name": "python"
    },
    "accelerator": "GPU",
    "gpuClass": "standard"
  },
  "cells": [
    {
      "cell_type": "code",
      "source": [
        "!pip install git+https://github.com/andreinechaev/nvcc4jupyter.git\n",
        "%load_ext nvcc_plugin"
      ],
      "metadata": {
        "colab": {
          "base_uri": "https://localhost:8080/"
        },
        "id": "Nt93JCGPPLdj",
        "outputId": "37f59c86-e971-4e9e-83eb-d857553ddbf5"
      },
      "execution_count": 15,
      "outputs": [
        {
          "output_type": "stream",
          "name": "stdout",
          "text": [
            "Looking in indexes: https://pypi.org/simple, https://us-python.pkg.dev/colab-wheels/public/simple/\n",
            "Collecting git+https://github.com/andreinechaev/nvcc4jupyter.git\n",
            "  Cloning https://github.com/andreinechaev/nvcc4jupyter.git to /tmp/pip-req-build-6adi1eno\n",
            "  Running command git clone --filter=blob:none --quiet https://github.com/andreinechaev/nvcc4jupyter.git /tmp/pip-req-build-6adi1eno\n",
            "  Resolved https://github.com/andreinechaev/nvcc4jupyter.git to commit aac710a35f52bb78ab34d2e52517237941399eff\n",
            "  Preparing metadata (setup.py) ... \u001b[?25l\u001b[?25hdone\n",
            "The nvcc_plugin extension is already loaded. To reload it, use:\n",
            "  %reload_ext nvcc_plugin\n"
          ]
        }
      ]
    },
    {
      "cell_type": "code",
      "execution_count": 176,
      "metadata": {
        "colab": {
          "base_uri": "https://localhost:8080/"
        },
        "id": "6UHB8hXYJqig",
        "outputId": "5ec7883c-a20f-4f09-bd90-f89933d8443a"
      },
      "outputs": [
        {
          "output_type": "stream",
          "name": "stdout",
          "text": [
            "Overwriting sequential.c\n"
          ]
        }
      ],
      "source": [
        "%%writefile sequential.c\n",
        "\n",
        "#include <stdio.h>\n",
        "#include <stdlib.h>\n",
        "#include <time.h>\n",
        "\n",
        "void printMatrix(int *M, int r, int c);\n",
        "\n",
        "int main() {\n",
        "\n",
        "\tconst int n = 800;\n",
        "\tconst int m = 800;\n",
        "\tconst int k = 850;\n",
        "\n",
        "\tclock_t t;\n",
        "\n",
        "\tint a[n*k];\n",
        "\tint b[k*m];\n",
        "\tint c[n*m];\n",
        "\n",
        "\tfor (int i = 0; i < n*k; i++) { a[i] = rand()%100; }\n",
        "\tfor (int i = 0; i < k*m; i++) { b[i] = rand()%100; }\n",
        "\n",
        "\t// printMatrix(a, n, k);\n",
        "\t// printMatrix(b, k, m);\n",
        "\n",
        "\tt = clock();\n",
        "\tfor (int i = 0; i < n; i++) {\n",
        "\t\tfor (int j = 0; j < m; j++) {\n",
        "\t\t\tint cValue = 0;\n",
        "\t\t\tfor (int l = 0; l < k; l++)\n",
        "\t\t\t\tcValue += a[i*k+l]*b[l*m+j];\n",
        "\t\t\tc[i*m+j] = cValue;\n",
        "\t\t}\n",
        "\t}\n",
        "\tt = clock()-t;\n",
        "\tdouble duration = (double)t/CLOCKS_PER_SEC;\n",
        "\n",
        "\t// printMatrix(c, k, m);\n",
        "\tprintf(\"%.2f\", duration);\n",
        "\t\n",
        "\treturn 0;\n",
        "\n",
        "}\n",
        "\n",
        "void printMatrix(int *M, int r, int c) {\n",
        "\tfor (int i = 0; i < r; i++) {\n",
        "\t\tfor (int j = 0; j < c; j++) {\n",
        "\t\t\tprintf(\"%d \", M[i*c+j]);\n",
        "\t\t}\n",
        "\t\tprintf(\"\\n\");\n",
        "\t}\n",
        "}\n"
      ]
    },
    {
      "cell_type": "code",
      "source": [
        "!gcc -o sequential sequential.c\n",
        "!./sequential"
      ],
      "metadata": {
        "colab": {
          "base_uri": "https://localhost:8080/"
        },
        "id": "qtvBNXUGO2hE",
        "outputId": "4283f9f8-efd3-49ba-9434-4c91d138b376"
      },
      "execution_count": 177,
      "outputs": [
        {
          "output_type": "stream",
          "name": "stdout",
          "text": [
            "2.07"
          ]
        }
      ]
    },
    {
      "cell_type": "code",
      "source": [
        "%%cuda --name CUDA.cu\n",
        "\n",
        "#include <stdio.h>\n",
        "#include <stdlib.h>\n",
        "#include <time.h>\n",
        "#include <math.h>\n",
        "\n",
        "void printMatrix(int *M, int r, int c);\n",
        "\n",
        "__global__ void matrixMultiplicationKernel(int *a, int *b, int *c, int n, int m, int k) {\n",
        "\tint row = blockIdx.y * blockDim.y + threadIdx.y;\n",
        "\tint col = blockIdx.x * blockDim.x + threadIdx.x;\n",
        "\tif (row < n && col < m) {\n",
        "\t\tint cValue = 0;\n",
        "\t\tfor (int l = 0; l < k; l++)\n",
        "\t\t\tcValue += a[row*k+l]*b[l*m+col];\n",
        "\t\tc[row*m+col] = cValue;\n",
        "\t}\n",
        "}\n",
        "\n",
        "int main() {\n",
        "\n",
        "\tconst int n = 800;\n",
        "\tconst int m = 800;\n",
        "\tconst int k = 850;\n",
        "\n",
        "\tclock_t t;\n",
        "\n",
        "\tint *ha = (int*)malloc(n*k*sizeof(int));\n",
        "\tint *hb = (int*)malloc(k*m*sizeof(int));\n",
        "\tint *hc = (int*)malloc(n*m*sizeof(int));\n",
        "\n",
        "\tfor (int i = 0; i < n*k; i++) { ha[i] = rand()%100; }\n",
        "\t// for (int i = 0; i < n*k; i++) { ha[i] = 1; }\n",
        "\tfor (int i = 0; i < k*m; i++) { hb[i] = rand()%100; }\n",
        "\t// for (int i = 0; i < k*m; i++) { hb[i] = 1; }\n",
        "\n",
        "\t// printMatrix(ha, n, k);\n",
        "\t// printMatrix(hb, k, m);\n",
        "\n",
        "\tt = clock();\n",
        "\n",
        "\tint *da; int *db; int *dc;\n",
        "\t\n",
        "\tcudaMalloc((void**)&da, n*k*sizeof(int));\n",
        "\tcudaMalloc((void**)&db, k*m*sizeof(int));\n",
        "\tcudaMalloc((void**)&dc, n*m*sizeof(int));\n",
        "\n",
        "\tcudaMemcpy(da, ha, n*k*sizeof(int), cudaMemcpyHostToDevice);\n",
        "\tcudaMemcpy(db, hb, k*m*sizeof(int), cudaMemcpyHostToDevice);\n",
        "\n",
        "\tdim3 block(16, 16);\n",
        "\tdim3 grid((m + block.x - 1) / block.x, (n + block.y - 1) / block.y);\n",
        "\n",
        "\tmatrixMultiplicationKernel<<<grid, block>>>(da, db, dc, n, m, k);\n",
        "\n",
        "\tcudaMemcpy(hc, dc, n*m*sizeof(int), cudaMemcpyDeviceToHost);\n",
        "\n",
        "\t// printMatrix(hc, n, m);\n",
        "\n",
        "\tcudaFree(da);\n",
        "\tcudaFree(db);\n",
        "\tcudaFree(dc);\n",
        "\tfree(ha);\n",
        "\tfree(hb);\n",
        "\tfree(hc);\n",
        "\n",
        "\tt = clock()-t;\n",
        "\tdouble duration = (double)t/CLOCKS_PER_SEC;\n",
        "\n",
        "\tprintf(\"%.2f\", duration);\n",
        "\t\n",
        "\treturn 0;\n",
        "\n",
        "}\n",
        "\n",
        "void printMatrix(int *M, int r, int c) {\n",
        "\tfor (int i = 0; i < r; i++) {\n",
        "\t\tfor (int j = 0; j < c; j++) {\n",
        "\t\t\tprintf(\"%d \", M[i*c+j]);\n",
        "\t\t}\n",
        "\t\tprintf(\"\\n\");\n",
        "\t}\n",
        "}\n"
      ],
      "metadata": {
        "colab": {
          "base_uri": "https://localhost:8080/",
          "height": 35
        },
        "id": "pR8vPn1BLOrS",
        "outputId": "09abd22e-ee33-4448-f102-ddfa051c4563"
      },
      "execution_count": 216,
      "outputs": [
        {
          "output_type": "execute_result",
          "data": {
            "text/plain": [
              "'File written in /content/src/CUDA.cu'"
            ],
            "application/vnd.google.colaboratory.intrinsic+json": {
              "type": "string"
            }
          },
          "metadata": {},
          "execution_count": 216
        }
      ]
    },
    {
      "cell_type": "code",
      "source": [
        "!nvcc -o src/CUDA src/CUDA.cu\n",
        "!./src/CUDA"
      ],
      "metadata": {
        "colab": {
          "base_uri": "https://localhost:8080/"
        },
        "id": "Jbm4NlKBO4gS",
        "outputId": "905d7759-cc9e-48b6-95cf-99e6e38cbae0"
      },
      "execution_count": 217,
      "outputs": [
        {
          "output_type": "stream",
          "name": "stdout",
          "text": [
            "0.10"
          ]
        }
      ]
    },
    {
      "cell_type": "code",
      "source": [
        "%%cuda --name CUDA_TILED.cu\n",
        "\n",
        "#include <stdio.h>\n",
        "#include <stdlib.h>\n",
        "#include <time.h>\n",
        "#include <math.h>\n",
        "\n",
        "#define tile_size 16\n",
        "\n",
        "void printMatrix(int *M, int r, int c);\n",
        "\n",
        "__global__ void matrixMultiplicationKernel(int *a, int *b, int *c, int n, int m, int k) {\n",
        "    __shared__ int tileA[tile_size][tile_size];\n",
        "    __shared__ int tileB[tile_size][tile_size];\n",
        "\n",
        "    int tx = threadIdx.x;\n",
        "    int ty = threadIdx.y;\n",
        "    int row = blockIdx.y * tile_size + ty;\n",
        "    int col = blockIdx.x * tile_size + tx;\n",
        "\n",
        "    int cValue = 0;\n",
        "    for (int t = 0; t < (k + tile_size - 1) / tile_size; t++) {\n",
        "        if (row < n && t * tile_size + tx < k)\n",
        "            tileA[ty][tx] = a[row * k + t * tile_size + tx];\n",
        "        else\n",
        "            tileA[ty][tx] = 0;\n",
        "        if (col < m && t * tile_size + ty < k)\n",
        "            tileB[ty][tx] = b[(t * tile_size + ty) * m + col];\n",
        "        else\n",
        "            tileB[ty][tx] = 0;\n",
        "\n",
        "        __syncthreads();\n",
        "\n",
        "        for (int i = 0; i < tile_size; ++i)\n",
        "            cValue += tileA[ty][i] * tileB[i][tx];\n",
        "\n",
        "        __syncthreads();\n",
        "    }\n",
        "\n",
        "    if (row < n && col < m) {\n",
        "        c[row * m + col] = cValue;\n",
        "    }\n",
        "}\n",
        "\n",
        "int main() {\n",
        "\n",
        "\tconst int n = 800;\n",
        "\tconst int m = 800;\n",
        "\tconst int k = 850;\n",
        "\n",
        "\tclock_t t;\n",
        "\n",
        "\tint *ha = (int*)malloc(n*k*sizeof(int));\n",
        "\tint *hb = (int*)malloc(k*m*sizeof(int));\n",
        "\tint *hc = (int*)malloc(n*m*sizeof(int));\n",
        "\n",
        "\t// for (int i = 0; i < n*k; i++) { ha[i] = rand()%100; }\n",
        "\t// for (int i = 0; i < k*m; i++) { hb[i] = rand()%100; }\n",
        "  for (int i = 0; i < n*k; i++) { ha[i] = 1; }\n",
        "\tfor (int i = 0; i < k*m; i++) { hb[i] = 1; }\n",
        "\n",
        "\t// printMatrix(ha, n, k);\n",
        "\t// printMatrix(hb, k, m);\n",
        "\n",
        "\tt = clock();\n",
        "\n",
        "\tint *da; int *db; int *dc;\n",
        "\t\n",
        "\tcudaMalloc((void**)&da, n*k*sizeof(int));\n",
        "\tcudaMalloc((void**)&db, k*m*sizeof(int));\n",
        "\tcudaMalloc((void**)&dc, n*m*sizeof(int));\n",
        "\n",
        "\tcudaMemcpy(da, ha, n*k*sizeof(int), cudaMemcpyHostToDevice);\n",
        "\tcudaMemcpy(db, hb, k*m*sizeof(int), cudaMemcpyHostToDevice);\n",
        "\n",
        "\tdim3 block(16, 16);\n",
        "\tdim3 grid((m + tile_size - 1) / tile_size, (n + tile_size - 1) / tile_size);\n",
        "\n",
        "\tmatrixMultiplicationKernel<<<grid, block>>>(da, db, dc, n, m, k);\n",
        "\n",
        "\tcudaMemcpy(hc, dc, n*m*sizeof(int), cudaMemcpyDeviceToHost);\n",
        "\n",
        "  // printMatrix(hc, n, m);\n",
        "\n",
        "\tcudaFree(da);\n",
        "\tcudaFree(db);\n",
        "\tcudaFree(dc);\n",
        "\tfree(ha);\n",
        "\tfree(hb);\n",
        "\tfree(hc);\n",
        "\n",
        "\tt = clock()-t;\n",
        "\tdouble duration = (double)t/CLOCKS_PER_SEC;\n",
        "\n",
        "\tprintf(\"%.2f\", duration);\n",
        "\t\n",
        "\treturn 0;\n",
        "\n",
        "}\n",
        "\n",
        "void printMatrix(int *M, int r, int c) {\n",
        "\tfor (int i = 0; i < r; i++) {\n",
        "\t\tfor (int j = 0; j < c; j++) {\n",
        "\t\t\tprintf(\"%d \", M[i*c+j]);\n",
        "\t\t}\n",
        "\t\tprintf(\"\\n\");\n",
        "\t}\n",
        "}"
      ],
      "metadata": {
        "colab": {
          "base_uri": "https://localhost:8080/",
          "height": 35
        },
        "id": "GqB4IZWeYYHC",
        "outputId": "eaf56ac1-6bd0-4253-92f3-94c8168250ec"
      },
      "execution_count": 196,
      "outputs": [
        {
          "output_type": "execute_result",
          "data": {
            "text/plain": [
              "'File written in /content/src/CUDA_TILED.cu'"
            ],
            "application/vnd.google.colaboratory.intrinsic+json": {
              "type": "string"
            }
          },
          "metadata": {},
          "execution_count": 196
        }
      ]
    },
    {
      "cell_type": "code",
      "source": [
        "!nvcc -o src/CUDA_TILED src/CUDA_TILED.cu\n",
        "!./src/CUDA_TILED"
      ],
      "metadata": {
        "colab": {
          "base_uri": "https://localhost:8080/"
        },
        "id": "9au6LBt6YYKX",
        "outputId": "4bec526b-52f1-49dc-d972-409925af2edb"
      },
      "execution_count": 199,
      "outputs": [
        {
          "output_type": "stream",
          "name": "stdout",
          "text": [
            "0.11"
          ]
        }
      ]
    }
  ]
}